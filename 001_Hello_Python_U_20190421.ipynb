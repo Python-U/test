{
  "nbformat": 4,
  "nbformat_minor": 0,
  "metadata": {
    "colab": {
      "name": "001 Hello Python U - 20190421.ipynb",
      "version": "0.3.2",
      "provenance": [],
      "collapsed_sections": [],
      "include_colab_link": true
    },
    "kernelspec": {
      "name": "python3",
      "display_name": "Python 3"
    }
  },
  "cells": [
    {
      "cell_type": "markdown",
      "metadata": {
        "id": "view-in-github",
        "colab_type": "text"
      },
      "source": [
        "<a href=\"https://colab.research.google.com/github/Python-U/test/blob/master/001_Hello_Python_U_20190421.ipynb\" target=\"_parent\"><img src=\"https://colab.research.google.com/assets/colab-badge.svg\" alt=\"Open In Colab\"/></a>"
      ]
    },
    {
      "metadata": {
        "id": "TZaFimKw9JMk",
        "colab_type": "text"
      },
      "cell_type": "markdown",
      "source": [
        "![alt text](https://secure.meetupstatic.com/photos/event/6/9/8/8/global_479847016.jpeg) "
      ]
    },
    {
      "metadata": {
        "id": "oLss02AOEj4J",
        "colab_type": "text"
      },
      "cell_type": "markdown",
      "source": [
        "# Welcome to the Python U Inaugural Meetup #1"
      ]
    },
    {
      "metadata": {
        "id": "fK-3v3k8EntT",
        "colab_type": "text"
      },
      "cell_type": "markdown",
      "source": [
        "### Quick tutorial\n",
        "- This Google Colab Python 3 notebook contains two types of cells, \"*code*\" cells and \"*text*\" cells.\n",
        "- To run the Python code in each code cell or display the formatted text in a text cell, just selct the cell and press **Shift + Enter ** on your keyboard.\n",
        "- You can also click on the Play button ▶️ on the far left of the cell to run the code. Text cells do not have a play button.\n",
        "- Double-click inside a cell to edit the contents.\n",
        "- To add a cell, you can click on \"**+CODE**\" or \"**+TEXT**\" on the toolbar above or hover  your mouse between two cells and click on \"**+CODE**\" or \"**+TEXT**\" from the pop-up.\n",
        "- To delete a cell, click on the three dots ⠸ on the far right of the cell and select \"Delete cell.\""
      ]
    },
    {
      "metadata": {
        "id": "engL3wSnRNKS",
        "colab_type": "text"
      },
      "cell_type": "markdown",
      "source": [
        "## Get ready to do some typing!!\n",
        "\n",
        "![alt text](https://media.giphy.com/media/o0vwzuFwCGAFO/giphy.gif)"
      ]
    },
    {
      "metadata": {
        "id": "aBQJejGbRbmb",
        "colab_type": "code",
        "colab": {}
      },
      "cell_type": "code",
      "source": [
        "# This is a code cell"
      ],
      "execution_count": 0,
      "outputs": []
    },
    {
      "metadata": {
        "id": "JGws2Je9RbdS",
        "colab_type": "code",
        "colab": {}
      },
      "cell_type": "code",
      "source": [
        "# <---- Click the play button to run the code"
      ],
      "execution_count": 0,
      "outputs": []
    },
    {
      "metadata": {
        "id": "REtjP-CHR58y",
        "colab_type": "text"
      },
      "cell_type": "markdown",
      "source": [
        "This is a normal text cell. Double-click to edit the text."
      ]
    },
    {
      "metadata": {
        "id": "P6-Pc0SLRbTv",
        "colab_type": "code",
        "colab": {}
      },
      "cell_type": "code",
      "source": [
        ""
      ],
      "execution_count": 0,
      "outputs": []
    },
    {
      "metadata": {
        "id": "A4n0mTwsSgEI",
        "colab_type": "text"
      },
      "cell_type": "markdown",
      "source": [
        ""
      ]
    },
    {
      "metadata": {
        "id": "KIR2Yz8oRbKm",
        "colab_type": "code",
        "colab": {}
      },
      "cell_type": "code",
      "source": [
        ""
      ],
      "execution_count": 0,
      "outputs": []
    },
    {
      "metadata": {
        "id": "WGIiKmA7SiWB",
        "colab_type": "text"
      },
      "cell_type": "markdown",
      "source": [
        ""
      ]
    },
    {
      "metadata": {
        "id": "E37RYVEJRa8A",
        "colab_type": "code",
        "colab": {}
      },
      "cell_type": "code",
      "source": [
        ""
      ],
      "execution_count": 0,
      "outputs": []
    },
    {
      "metadata": {
        "id": "e-z5fQq3Sj7R",
        "colab_type": "text"
      },
      "cell_type": "markdown",
      "source": [
        ""
      ]
    },
    {
      "metadata": {
        "id": "B5IwMxFhjfXh",
        "colab_type": "text"
      },
      "cell_type": "markdown",
      "source": [
        "### Let's get started with a traditional \"Hello, World!\"\" variant!"
      ]
    },
    {
      "metadata": {
        "id": "WuKl30542H_a",
        "colab_type": "text"
      },
      "cell_type": "markdown",
      "source": [
        "Print \"***Hello, Python U!***\" to the console using the **standard** *print* statement.\n",
        "\n",
        "\n",
        "\n",
        "```\n",
        "print(\"Hello, Python U!\")\n",
        "```\n",
        "\n"
      ]
    },
    {
      "metadata": {
        "id": "PhqaTtTQ2EVN",
        "colab_type": "code",
        "colab": {}
      },
      "cell_type": "code",
      "source": [
        ""
      ],
      "execution_count": 0,
      "outputs": []
    },
    {
      "metadata": {
        "id": "lsIYGUQQ25s2",
        "colab_type": "text"
      },
      "cell_type": "markdown",
      "source": [
        "Print \"***Hello, Python U!***\" to the console using the **format** *print* statement.\n",
        "\n",
        "\n",
        "\n",
        "```\n",
        "print(\"Hello, {}!\".format('Python U'))\n",
        "```\n",
        "\n"
      ]
    },
    {
      "metadata": {
        "id": "UsTMStTu3VbK",
        "colab_type": "code",
        "colab": {}
      },
      "cell_type": "code",
      "source": [
        ""
      ],
      "execution_count": 0,
      "outputs": []
    },
    {
      "metadata": {
        "id": "aBHe9ijh2gKL",
        "colab_type": "text"
      },
      "cell_type": "markdown",
      "source": [
        "Print \"Hello, Python U!\" to the console using the new Python 3 **f-string** statement.\n",
        "\n",
        "\n",
        "```\n",
        "meetup = \"Python U\"\n",
        "print(f\"Hello, {meetup}!\")\n",
        "```\n",
        "\n"
      ]
    },
    {
      "metadata": {
        "id": "8keIXPMU8Y2p",
        "colab_type": "code",
        "colab": {}
      },
      "cell_type": "code",
      "source": [
        ""
      ],
      "execution_count": 0,
      "outputs": []
    },
    {
      "metadata": {
        "id": "RDlSNtX54kUJ",
        "colab_type": "text"
      },
      "cell_type": "markdown",
      "source": [
        "# Basic Data Types"
      ]
    },
    {
      "metadata": {
        "id": "1PiXbQf-89-o",
        "colab_type": "text"
      },
      "cell_type": "markdown",
      "source": [
        "## Intergers ( int )\n",
        "\n",
        "\n",
        "> ### Whole numbers\n",
        "\n",
        "*   3\n",
        "*   100\n",
        "*   500\n",
        "\n",
        "\n",
        "\n",
        "\n",
        "## Floating point numbers ( float )\n",
        "\n",
        "\n",
        "> ### Number with a decimal point.\n",
        "\n",
        "*   1.5 \n",
        "*   3.1415  \n",
        "*   100.0\n",
        "\n",
        "\n",
        "## Strings ( str )\n",
        "\n",
        "\n",
        "> ### An ordered sequence of characters. Also treated as a \"list\" of characters enclosed in single quotes  ' ' or double quotes \" \"\n",
        "> ### Strings are immutable, ie. cannot be changed\n",
        "\n",
        "*   \"Hello\"\n",
        "*   \"Bob\"\n",
        "*   'Alice'\n",
        "*   \"美味しい\"\n",
        "*   \"2000\"\n",
        "\n",
        "\n",
        "## Lists ( list )\n",
        "\n",
        "\n",
        "> ### Ordered sequence of different kinds of objects enclosed in square brackets \" [ ] \"\n",
        "\n",
        "*   [10, \"Hello\", \"Johnny\", 1000, 3.1415]\n",
        "*   [1, 2, 3, 4, 5]\n",
        "*   [\"Python U\", \"software\", \"website\", \"computer\"]\n",
        "\n",
        "## Dictionaries ( dict )\n",
        "\n",
        "\n",
        "> ### Unordered Key:Value pairs enclosed in curly braces \" { } \"\n",
        "\n",
        "*   {\"key1\":\"value1\", \"key2\":\"value2\", \"key3\":\"value3\"}\n",
        "*   {\"id\":1, \"first_name\":\"Johnny Viper\", \"group\":\"Python U\"}\n",
        "\n",
        "\n",
        "## Tuples ( tup )\n",
        "\n",
        "\n",
        "> ### Ordered **immutable** sequence of objects enclosed in parantheses \" ( ) \"\n",
        "\n",
        "* (10, \"hello\", 200.3)\n",
        "* (1, 2, 3)\n",
        "\n",
        "## Sets ( set )\n",
        "\n",
        "\n",
        "> ### **Unordered** collection of unique objects\n",
        "\n",
        "* {\"a\", \"b\"}\n",
        "* {}\n",
        "\n",
        "## Booleans ( bool )\n",
        "\n",
        "\n",
        "> ### Logical value indicating either **True** or **False**\n",
        "\n",
        "* True\n",
        "* False\n",
        "\n"
      ]
    },
    {
      "metadata": {
        "id": "fPzXxu85Wrau",
        "colab_type": "text"
      },
      "cell_type": "markdown",
      "source": [
        "# Numbers and simple math operators ( + , - , * , / )"
      ]
    },
    {
      "metadata": {
        "id": "OQGP8fSjXJlu",
        "colab_type": "text"
      },
      "cell_type": "markdown",
      "source": [
        "\n",
        "\n",
        "```\n",
        "2 + 2\n",
        "\n",
        "50 - 5*6\n",
        "\n",
        "(50 - 5*6) / 4\n",
        "\n",
        "8 / 5  # division always returns a floating point number\n",
        "```\n",
        "\n"
      ]
    },
    {
      "metadata": {
        "id": "lxCG2c9bXOAi",
        "colab_type": "code",
        "colab": {}
      },
      "cell_type": "code",
      "source": [
        ""
      ],
      "execution_count": 0,
      "outputs": []
    },
    {
      "metadata": {
        "id": "CG1Gx35eXwYT",
        "colab_type": "text"
      },
      "cell_type": "markdown",
      "source": [
        "## More math operators ( // , % )"
      ]
    },
    {
      "metadata": {
        "id": "CYHlA0lHXOa6",
        "colab_type": "text"
      },
      "cell_type": "markdown",
      "source": [
        "\n",
        "\n",
        "```\n",
        "17 / 3  # classic division returns a float\n",
        "\n",
        "\n",
        "17 // 3  # floor division discards the fractional part\n",
        "\n",
        "17 % 3  # the % operator returns the remainder of the division\n",
        "\n",
        "5 * 3 + 2  # result * divisor + remainder\n",
        "```\n",
        "\n"
      ]
    },
    {
      "metadata": {
        "id": "f-OQBtdiXQ6s",
        "colab_type": "code",
        "colab": {}
      },
      "cell_type": "code",
      "source": [
        ""
      ],
      "execution_count": 0,
      "outputs": []
    },
    {
      "metadata": {
        "id": "Mmr2nm-VWHcT",
        "colab_type": "text"
      },
      "cell_type": "markdown",
      "source": [
        "# Variables and the Equal sign ( = )\n",
        "\n",
        "The equal sign '=' is used to assign a value to a variable\n",
        "\n",
        "\n",
        "\n",
        "```\n",
        "width = 20\n",
        "height = 5 * 9\n",
        "width * height\n",
        "```\n",
        "\n"
      ]
    },
    {
      "metadata": {
        "id": "p2vN54x2X93O",
        "colab_type": "code",
        "colab": {}
      },
      "cell_type": "code",
      "source": [
        ""
      ],
      "execution_count": 0,
      "outputs": []
    },
    {
      "metadata": {
        "id": "ZrXAaYcIoiE3",
        "colab_type": "text"
      },
      "cell_type": "markdown",
      "source": [
        "# Lists"
      ]
    },
    {
      "metadata": {
        "id": "U_sgFA2fHofk",
        "colab_type": "text"
      },
      "cell_type": "markdown",
      "source": [
        "\n",
        "\n",
        "```\n",
        "squares = [1, 4, 9, 16, 25, 36, 49]\n",
        "squares\n",
        "```\n",
        "\n"
      ]
    },
    {
      "metadata": {
        "id": "HLcKGeBjojwZ",
        "colab_type": "code",
        "colab": {}
      },
      "cell_type": "code",
      "source": [
        ""
      ],
      "execution_count": 0,
      "outputs": []
    },
    {
      "metadata": {
        "id": "vFGbwAWsHuA4",
        "colab_type": "text"
      },
      "cell_type": "markdown",
      "source": [
        "\n",
        "\n",
        "```\n",
        "squares[0]  # indexing returns the item\n",
        "\n",
        "squares[-1]\n",
        "\n",
        "squares[-3:]  # slicing returns a new list\n",
        "```\n",
        "\n"
      ]
    },
    {
      "metadata": {
        "id": "qGq7KdjTI4qK",
        "colab_type": "code",
        "colab": {}
      },
      "cell_type": "code",
      "source": [
        ""
      ],
      "execution_count": 0,
      "outputs": []
    },
    {
      "metadata": {
        "id": "XWBSrOBMI5KI",
        "colab_type": "text"
      },
      "cell_type": "markdown",
      "source": [
        "\n",
        "\n",
        "```\n",
        "squares[:]\n",
        "```\n",
        "\n"
      ]
    },
    {
      "metadata": {
        "id": "0x3imkiPJAYd",
        "colab_type": "code",
        "colab": {}
      },
      "cell_type": "code",
      "source": [
        ""
      ],
      "execution_count": 0,
      "outputs": []
    },
    {
      "metadata": {
        "id": "QNgtHjrQJA3B",
        "colab_type": "text"
      },
      "cell_type": "markdown",
      "source": [
        "### You can concatenate lists. You can add extra items to an existing list.\n",
        "\n",
        "```\n",
        "squares + [37, 49, 64, 71, 200]\n",
        "```\n",
        "\n"
      ]
    },
    {
      "metadata": {
        "id": "UoOIWYXBJ3S4",
        "colab_type": "code",
        "colab": {}
      },
      "cell_type": "code",
      "source": [
        ""
      ],
      "execution_count": 0,
      "outputs": []
    },
    {
      "metadata": {
        "id": "hIZX60iXKPkR",
        "colab_type": "text"
      },
      "cell_type": "markdown",
      "source": [
        "### Let's try to modify the contents of a lists\n",
        "\n",
        "```\n",
        "cubes = [1, 8, 27, 65, 125]  # there is a problem here\n",
        "4 ** 3  # the cube of 4 is 64, not 65!\n",
        "\n",
        "cubes[3] = 64  # replace the wrong value with the correct one\n",
        "cubes\n",
        "```\n",
        "\n"
      ]
    },
    {
      "metadata": {
        "id": "voKwPV6tLUiA",
        "colab_type": "code",
        "colab": {}
      },
      "cell_type": "code",
      "source": [
        ""
      ],
      "execution_count": 0,
      "outputs": []
    },
    {
      "metadata": {
        "id": "5E8Z4dTtLZKk",
        "colab_type": "text"
      },
      "cell_type": "markdown",
      "source": [
        "\n",
        "\n",
        "```\n",
        "letters = ['a', 'b', 'c', 'd', 'e', 'f', 'g']\n",
        "letters\n",
        "\n",
        "# replace some values\n",
        "letters[2:5] = ['C', 'D', 'E']\n",
        "letters\n",
        "\n",
        "# now remove them\n",
        "letters[2:5] = []\n",
        "letters\n",
        "\n",
        "# clear the list by replacing all the elements with an empty list\n",
        "letters[:] = []\n",
        "\n",
        "# display the contents of the list and confirm the changes\n",
        "letters\n",
        "```\n",
        "\n"
      ]
    },
    {
      "metadata": {
        "id": "5xu-XY0ALmoP",
        "colab_type": "code",
        "colab": {}
      },
      "cell_type": "code",
      "source": [
        ""
      ],
      "execution_count": 0,
      "outputs": []
    },
    {
      "metadata": {
        "id": "GMEzbLjSLsy4",
        "colab_type": "text"
      },
      "cell_type": "markdown",
      "source": [
        "## len( )  function\n",
        "\n",
        "```\n",
        "letters = ['a', 'b', 'c', 'd']\n",
        "len(letters)\n",
        "```\n",
        "\n"
      ]
    },
    {
      "metadata": {
        "id": "_URjKdiEL3VW",
        "colab_type": "code",
        "colab": {}
      },
      "cell_type": "code",
      "source": [
        ""
      ],
      "execution_count": 0,
      "outputs": []
    },
    {
      "metadata": {
        "id": "qqguBP1Idt93",
        "colab_type": "text"
      },
      "cell_type": "markdown",
      "source": [
        "\n",
        "\n",
        "```\n",
        "numbers = [55, 11, 33, 77, 99, 22]\n",
        "len(numbers)\n",
        "```\n",
        "\n"
      ]
    },
    {
      "metadata": {
        "id": "Bea67XaA-lt3",
        "colab_type": "code",
        "colab": {}
      },
      "cell_type": "code",
      "source": [
        ""
      ],
      "execution_count": 0,
      "outputs": []
    },
    {
      "metadata": {
        "id": "JmpY2mngL31s",
        "colab_type": "text"
      },
      "cell_type": "markdown",
      "source": [
        "### Nested lists. Lists within lists\n",
        "\n",
        "```\n",
        "a = ['a', 'b', 'c']\n",
        "n = [1, 2, 3]\n",
        "x = [a, n]\n",
        "print(x)\n",
        "```\n",
        "\n"
      ]
    },
    {
      "metadata": {
        "id": "kB1SAKOG-jt6",
        "colab_type": "code",
        "colab": {}
      },
      "cell_type": "code",
      "source": [
        ""
      ],
      "execution_count": 0,
      "outputs": []
    },
    {
      "metadata": {
        "id": "PcmOQwqZDvhR",
        "colab_type": "text"
      },
      "cell_type": "markdown",
      "source": [
        "\n",
        "\n",
        "```\n",
        "print(x[0])\n",
        "print(x[0][1])\n",
        "```\n",
        "\n"
      ]
    },
    {
      "metadata": {
        "id": "ux96wykSDx0Y",
        "colab_type": "code",
        "colab": {}
      },
      "cell_type": "code",
      "source": [
        ""
      ],
      "execution_count": 0,
      "outputs": []
    },
    {
      "metadata": {
        "id": "aYVDZ2PZhK5l",
        "colab_type": "text"
      },
      "cell_type": "markdown",
      "source": [
        "# Append\n",
        "## How to append a new value to the end of a list?\n",
        "\n",
        "\n",
        "```\n",
        "values = [1, 2, 3, 4, 5]\n",
        "\n",
        "values.append(6)\n",
        "\n",
        "values\n",
        "```\n",
        "\n"
      ]
    },
    {
      "metadata": {
        "id": "toI61zcXopq0",
        "colab_type": "code",
        "colab": {}
      },
      "cell_type": "code",
      "source": [
        ""
      ],
      "execution_count": 0,
      "outputs": []
    },
    {
      "metadata": {
        "id": "2bEREYM7gg4p",
        "colab_type": "text"
      },
      "cell_type": "markdown",
      "source": [
        "# Delete\n",
        "## How to delete a value from a list?\n",
        "\n",
        "\n",
        "```\n",
        "values = [1, 2, 3, 4, 5]\n",
        "\n",
        "del values[3]\n",
        "\n",
        "values\n",
        "```\n",
        "\n"
      ]
    },
    {
      "metadata": {
        "id": "wCnb0Vj8at3v",
        "colab_type": "text"
      },
      "cell_type": "markdown",
      "source": [
        "## What happens when you point to a higher index location beyond the size of the actual list?\n",
        "\n",
        "\n",
        "```\n",
        "word = 'Hello'\n",
        "word[15]\n",
        "```\n",
        "\n"
      ]
    },
    {
      "metadata": {
        "id": "vh2xwmmfosbl",
        "colab_type": "code",
        "colab": {}
      },
      "cell_type": "code",
      "source": [
        ""
      ],
      "execution_count": 0,
      "outputs": []
    },
    {
      "metadata": {
        "id": "onyyLahEbAYm",
        "colab_type": "text"
      },
      "cell_type": "markdown",
      "source": [
        "## What happens when you designate a range that goes beyond the last element of a list?\n",
        "\n",
        "\n",
        "```\n",
        "word = 'Hello'\n",
        "word[3:35]\n",
        "```\n",
        "\n"
      ]
    },
    {
      "metadata": {
        "id": "MaN5rqJavfs9",
        "colab_type": "code",
        "colab": {}
      },
      "cell_type": "code",
      "source": [
        ""
      ],
      "execution_count": 0,
      "outputs": []
    },
    {
      "metadata": {
        "id": "bT-nZlMvbRt4",
        "colab_type": "text"
      },
      "cell_type": "markdown",
      "source": [
        "## Can you change the contents of a string?\n",
        "\n",
        "\n",
        "```\n",
        "word = 'Hello'\n",
        "word[1] = 'a'\n",
        "```\n",
        "\n"
      ]
    },
    {
      "metadata": {
        "id": "JB6OXxvHbcko",
        "colab_type": "code",
        "colab": {}
      },
      "cell_type": "code",
      "source": [
        ""
      ],
      "execution_count": 0,
      "outputs": []
    },
    {
      "metadata": {
        "id": "XjNC-YcVbdMC",
        "colab_type": "text"
      },
      "cell_type": "markdown",
      "source": [
        "## Can you change the entire contents of a string variable?\n",
        "\n",
        "\n",
        "```\n",
        "word = 'Hello'\n",
        "word = 'Hallo'\n",
        "```\n",
        "\n"
      ]
    },
    {
      "metadata": {
        "id": "ZnHDTbWpbpzW",
        "colab_type": "code",
        "colab": {}
      },
      "cell_type": "code",
      "source": [
        ""
      ],
      "execution_count": 0,
      "outputs": []
    },
    {
      "metadata": {
        "id": "Kg89PvrkbxqK",
        "colab_type": "text"
      },
      "cell_type": "markdown",
      "source": [
        "## Checking the length of a string\n",
        "\n",
        "\n",
        "```\n",
        "word = 'Python U'\n",
        "len(word)\n",
        "```\n",
        "\n"
      ]
    },
    {
      "metadata": {
        "id": "XnUxPVg7b4_9",
        "colab_type": "code",
        "colab": {}
      },
      "cell_type": "code",
      "source": [
        ""
      ],
      "execution_count": 0,
      "outputs": []
    },
    {
      "metadata": {
        "id": "DT1uEV4LGzjF",
        "colab_type": "text"
      },
      "cell_type": "markdown",
      "source": [
        "\n",
        "\n",
        "```\n",
        "haiku = \"蝉しぐれ、二匹いたら、セミダブル\"\n",
        "len(haiku)\n",
        "```\n",
        "\n"
      ]
    },
    {
      "metadata": {
        "id": "n9d8r1ovHfc3",
        "colab_type": "code",
        "colab": {}
      },
      "cell_type": "code",
      "source": [
        ""
      ],
      "execution_count": 0,
      "outputs": []
    },
    {
      "metadata": {
        "id": "tSDUWRnCcSfX",
        "colab_type": "text"
      },
      "cell_type": "markdown",
      "source": [
        "## How to replace part of a string using the *replace( )* method\n",
        "\n",
        "\n",
        "```\n",
        "greeting = 'Hello Python U'\n",
        "greeting.replace('Hello', 'Hallo')\n",
        "print(greeting)\n",
        "```\n",
        "\n"
      ]
    },
    {
      "metadata": {
        "id": "VPpuM7qMcjxW",
        "colab_type": "code",
        "colab": {}
      },
      "cell_type": "code",
      "source": [
        ""
      ],
      "execution_count": 0,
      "outputs": []
    },
    {
      "metadata": {
        "id": "2h4EHYVQdLZY",
        "colab_type": "text"
      },
      "cell_type": "markdown",
      "source": [
        "# More fun with lists!"
      ]
    },
    {
      "metadata": {
        "id": "OLNnsrwWdPZq",
        "colab_type": "text"
      },
      "cell_type": "markdown",
      "source": [
        "## Review: create a list and check the value of a specific index\n",
        "\n",
        "\n",
        "```\n",
        "values = [1, 2, 3, 4, 5]\n",
        "\n",
        "values[1]\n",
        "```\n",
        "\n"
      ]
    },
    {
      "metadata": {
        "id": "_tENNUw7dOr1",
        "colab_type": "code",
        "colab": {}
      },
      "cell_type": "code",
      "source": [
        ""
      ],
      "execution_count": 0,
      "outputs": []
    },
    {
      "metadata": {
        "id": "XcoiZwhddq8b",
        "colab_type": "text"
      },
      "cell_type": "markdown",
      "source": [
        "## What is the code below trying to do?\n",
        "\n",
        "```\n",
        "values = [6, 7, 8, 9, 10]\n",
        "\n",
        "values[-1]\n",
        "```\n",
        "\n"
      ]
    },
    {
      "metadata": {
        "id": "arQJQPVrCVc-",
        "colab_type": "code",
        "colab": {}
      },
      "cell_type": "code",
      "source": [
        ""
      ],
      "execution_count": 0,
      "outputs": []
    },
    {
      "metadata": {
        "id": "WY06gr_2CWFw",
        "colab_type": "text"
      },
      "cell_type": "markdown",
      "source": [
        "\n",
        "\n",
        "```\n",
        "values = [6, 7, 8, 9, 10]\n",
        "\n",
        "values[1:4]\n",
        "```\n",
        "\n"
      ]
    },
    {
      "metadata": {
        "id": "DuKTHXVqeyf-",
        "colab_type": "code",
        "colab": {}
      },
      "cell_type": "code",
      "source": [
        ""
      ],
      "execution_count": 0,
      "outputs": []
    },
    {
      "metadata": {
        "id": "QciX7HfLeNs0",
        "colab_type": "text"
      },
      "cell_type": "markdown",
      "source": [
        "## What is the code below trying to do?\n",
        "\n",
        "```\n",
        "values = [10, 20, 30, 40, 50]\n",
        "\n",
        "len(values)\n",
        "```\n",
        "\n"
      ]
    },
    {
      "metadata": {
        "id": "JyVD5Mx7ewoJ",
        "colab_type": "code",
        "colab": {}
      },
      "cell_type": "code",
      "source": [
        ""
      ],
      "execution_count": 0,
      "outputs": []
    },
    {
      "metadata": {
        "id": "TnwRy098ewEg",
        "colab_type": "text"
      },
      "cell_type": "markdown",
      "source": [
        "## How do you concatenate two different lists?\n",
        "\n",
        "\n",
        "```\n",
        "values = [10, 20, 30, 40, 50]\n",
        "\n",
        "values + [60, 70, 80, 90, 100]\n",
        "```\n",
        "\n"
      ]
    },
    {
      "metadata": {
        "id": "iz9BdpFNfCIX",
        "colab_type": "code",
        "colab": {}
      },
      "cell_type": "code",
      "source": [
        ""
      ],
      "execution_count": 0,
      "outputs": []
    },
    {
      "metadata": {
        "id": "WtOE-JURfghE",
        "colab_type": "text"
      },
      "cell_type": "markdown",
      "source": [
        "## How do you replace or overwrite a single value within a list?\n",
        "\n",
        "\n",
        "```\n",
        "values = [1, 2, 3, 4, 5]\n",
        "\n",
        "values[3] = 11\n",
        "\n",
        "values\n",
        "```\n",
        "\n"
      ]
    },
    {
      "metadata": {
        "id": "-Ox7c2zjhZ4H",
        "colab_type": "code",
        "colab": {}
      },
      "cell_type": "code",
      "source": [
        ""
      ],
      "execution_count": 0,
      "outputs": []
    },
    {
      "metadata": {
        "id": "ufLrYuVTf87L",
        "colab_type": "text"
      },
      "cell_type": "markdown",
      "source": [
        "## How do you modify a range of values within a list?\n",
        "\n",
        "\n",
        "```\n",
        "values = [1, 2, 3, 4, 5]\n",
        "\n",
        "values[1:4] = [10, 11, 12]\n",
        "\n",
        "values\n",
        "```\n",
        "\n"
      ]
    },
    {
      "metadata": {
        "id": "0jsAhJrWgLW_",
        "colab_type": "code",
        "colab": {}
      },
      "cell_type": "code",
      "source": [
        ""
      ],
      "execution_count": 0,
      "outputs": []
    },
    {
      "metadata": {
        "id": "XJQK2GkJiKvR",
        "colab_type": "text"
      },
      "cell_type": "markdown",
      "source": [
        "## Count how many times a specific element appears in a list.\n",
        "\n",
        "\n",
        "```\n",
        "wine_grapes = ['Pinot Noir', 'Cabernet Sauvignon', 'Chardonnay', 'Pinot Noir', 'Riesling', 'Cabernet Sauvignon', 'Cabernet Sauvignon', 'Chardonnay', 'Chardonnay']\n",
        "\n",
        "wine_grapes.count('Chardonnay')\n",
        "```\n",
        "\n"
      ]
    },
    {
      "metadata": {
        "id": "L9U2ADkBi38s",
        "colab_type": "code",
        "colab": {}
      },
      "cell_type": "code",
      "source": [
        ""
      ],
      "execution_count": 0,
      "outputs": []
    },
    {
      "metadata": {
        "id": "KEExAvYhI4Bf",
        "colab_type": "text"
      },
      "cell_type": "markdown",
      "source": [
        "\n",
        "\n",
        "```\n",
        "values = [1, 2, 3, 4, 5]\n",
        "\n",
        "values[1:4] = []\n",
        "\n",
        "values\n",
        "```\n",
        "\n"
      ]
    },
    {
      "metadata": {
        "id": "L0RaWxBuJAwE",
        "colab_type": "code",
        "colab": {}
      },
      "cell_type": "code",
      "source": [
        ""
      ],
      "execution_count": 0,
      "outputs": []
    },
    {
      "metadata": {
        "id": "804S6w-LJBa1",
        "colab_type": "text"
      },
      "cell_type": "markdown",
      "source": [
        "## Append three more different values to the list below\n",
        "\n",
        "```\n",
        "my_numbers = [45, 66, 73, 12, 43]\n",
        "```\n",
        "\n"
      ]
    },
    {
      "metadata": {
        "id": "a18HmcDUJnzf",
        "colab_type": "code",
        "colab": {}
      },
      "cell_type": "code",
      "source": [
        ""
      ],
      "execution_count": 0,
      "outputs": []
    },
    {
      "metadata": {
        "id": "w9eGICgwJqop",
        "colab_type": "text"
      },
      "cell_type": "markdown",
      "source": [
        "## Before you type out the code below, what is the result?\n",
        "\n",
        "```\n",
        "wine_grapes = ['Cabernet Sauvignon', 'Chardonnay', 'Pinot Noir', 'Riesling', 'Chardonnay']\n",
        "\n",
        "wine_grapes.index('Pinot Noir')\n",
        "```\n",
        "\n"
      ]
    },
    {
      "metadata": {
        "id": "G5J-IxmmJ8Y7",
        "colab_type": "code",
        "colab": {}
      },
      "cell_type": "code",
      "source": [
        ""
      ],
      "execution_count": 0,
      "outputs": []
    },
    {
      "metadata": {
        "id": "CiG0nEyUKwUo",
        "colab_type": "text"
      },
      "cell_type": "markdown",
      "source": [
        "\n",
        "\n",
        "```\n",
        "fruits = ['orange', banana, 'grape', 'apple', 'lemon', 'pineapple']\n",
        "\n",
        "fruits.reverse()\n",
        "\n",
        "print(fruits)\n",
        "```\n",
        "\n"
      ]
    },
    {
      "metadata": {
        "id": "G7r6wAbAJ9M9",
        "colab_type": "code",
        "colab": {}
      },
      "cell_type": "code",
      "source": [
        ""
      ],
      "execution_count": 0,
      "outputs": []
    },
    {
      "metadata": {
        "id": "YFugRZ4gLiA5",
        "colab_type": "text"
      },
      "cell_type": "markdown",
      "source": [
        "\n",
        "\n",
        "```\n",
        "numbers = [33, 15, 55, 21, 75, 100, 2]\n",
        "\n",
        "nummbers.sort()\n",
        "\n",
        "numbers\n",
        "```\n",
        "\n"
      ]
    },
    {
      "metadata": {
        "id": "lh8MepiNLwLe",
        "colab_type": "code",
        "colab": {}
      },
      "cell_type": "code",
      "source": [
        ""
      ],
      "execution_count": 0,
      "outputs": []
    },
    {
      "metadata": {
        "id": "QWr14dxoL1PM",
        "colab_type": "text"
      },
      "cell_type": "markdown",
      "source": [
        "\n",
        "\n",
        "```\n",
        "numbers = [33, 15, 55, 21, 75, 100, 2]\n",
        "\n",
        "nummbers.sort(reverse=True)\n",
        "\n",
        "print(numbers)\n",
        "```\n",
        "\n"
      ]
    },
    {
      "metadata": {
        "id": "O3iVpNjTL9xR",
        "colab_type": "code",
        "colab": {}
      },
      "cell_type": "code",
      "source": [
        ""
      ],
      "execution_count": 0,
      "outputs": []
    },
    {
      "metadata": {
        "id": "Y2KCkQc_WX5P",
        "colab_type": "text"
      },
      "cell_type": "markdown",
      "source": [
        "\n",
        "\n",
        "---\n",
        "\n"
      ]
    },
    {
      "metadata": {
        "id": "Tt4ijjqgWUsH",
        "colab_type": "code",
        "colab": {}
      },
      "cell_type": "code",
      "source": [
        ""
      ],
      "execution_count": 0,
      "outputs": []
    }
  ]
}